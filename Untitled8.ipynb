{
  "nbformat": 4,
  "nbformat_minor": 0,
  "metadata": {
    "colab": {
      "provenance": [],
      "authorship_tag": "ABX9TyNj+S6NFyG8eTWJkcdaoS+u",
      "include_colab_link": true
    },
    "kernelspec": {
      "name": "python3",
      "display_name": "Python 3"
    },
    "language_info": {
      "name": "python"
    }
  },
  "cells": [
    {
      "cell_type": "markdown",
      "metadata": {
        "id": "view-in-github",
        "colab_type": "text"
      },
      "source": [
        "<a href=\"https://colab.research.google.com/github/AJAY962006/POAI-EXP-9/blob/main/Untitled8.ipynb\" target=\"_parent\"><img src=\"https://colab.research.google.com/assets/colab-badge.svg\" alt=\"Open In Colab\"/></a>"
      ]
    },
    {
      "cell_type": "code",
      "execution_count": 1,
      "metadata": {
        "colab": {
          "base_uri": "https://localhost:8080/"
        },
        "id": "KzRf2i6re-F0",
        "outputId": "cb7beea3-c3a1-41af-dc2c-a6974445a495"
      },
      "outputs": [
        {
          "output_type": "stream",
          "name": "stdout",
          "text": [
            "Move A to table\n",
            "Move B to A\n",
            "Move C to B\n"
          ]
        }
      ],
      "source": [
        "blocks = {'A': None, 'B': None, 'C': None}\n",
        "\n",
        "def move(block, dest):\n",
        "    print(f\"Move {block} to {dest}\")\n",
        "    blocks[block] = dest\n",
        "\n",
        "def blocks_world():\n",
        "    move('A', 'table')\n",
        "    move('B', 'A')\n",
        "    move('C', 'B')\n",
        "\n",
        "blocks_world()\n"
      ]
    }
  ]
}